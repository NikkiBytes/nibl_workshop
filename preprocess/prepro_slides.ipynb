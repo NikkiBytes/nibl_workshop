{
 "cells": [
  {
   "cell_type": "markdown",
   "metadata": {
    "slideshow": {
     "slide_type": "slide"
    }
   },
   "source": [
    "# Writing a preprocessing script in python\n"
   ]
  },
  {
   "cell_type": "markdown",
   "metadata": {
    "slideshow": {
     "slide_type": "slide"
    }
   },
   "source": [
    "## first thing we will always do is load our modules"
   ]
  },
  {
   "cell_type": "code",
   "execution_count": 7,
   "metadata": {
    "collapsed": true,
    "slideshow": {
     "slide_type": "-"
    }
   },
   "outputs": [],
   "source": [
    "import glob\n",
    "import os\n",
    "import pdb\n",
    "import subprocess"
   ]
  },
  {
   "cell_type": "markdown",
   "metadata": {
    "slideshow": {
     "slide_type": "subslide"
    }
   },
   "source": [
    "### Often times we won't know all the modules we want to import right off the bat  but I like to make sure that as I am scripting I always put my modules at the top this allows others who may use my script to make sure they have all the necessary tools"
   ]
  },
  {
   "cell_type": "markdown",
   "metadata": {
    "slideshow": {
     "slide_type": "slide"
    }
   },
   "source": [
    "## Now lets start by building a function that will hold all the commands we want to execute"
   ]
  },
  {
   "cell_type": "markdown",
   "metadata": {
    "slideshow": {
     "slide_type": "-"
    }
   },
   "source": [
    "```\n",
    "def prepro():\n",
    "    #do something cool\n",
    "```"
   ]
  },
  {
   "cell_type": "markdown",
   "metadata": {
    "slideshow": {
     "slide_type": "-"
    }
   },
   "source": [
    "## We will make a function that will hold all of our global variables and our above function\n",
    "## I personally like to call this main"
   ]
  },
  {
   "cell_type": "markdown",
   "metadata": {
    "collapsed": true
   },
   "source": [
    "```\n",
    "def main():\n",
    "    prepro()\n",
    "```"
   ]
  },
  {
   "cell_type": "markdown",
   "metadata": {
    "slideshow": {
     "slide_type": "slide"
    }
   },
   "source": [
    "## Finally we have our two functions and lastly we will call our main( ) which will execute both our global variables and our command function"
   ]
  },
  {
   "cell_type": "code",
   "execution_count": 9,
   "metadata": {
    "slideshow": {
     "slide_type": "-"
    }
   },
   "outputs": [
    {
     "name": "stdout",
     "output_type": "stream",
     "text": [
      "Hello data in the path /Users/gracer/Desktop/data\n"
     ]
    }
   ],
   "source": [
    "def prepro(basedir):\n",
    "    #Do something cool\n",
    "    print('Hello data in the path '+basedir)\n",
    "def main():\n",
    "    #load in all the global variables prepro needs, right now this is just the path to the data\n",
    "    basedir='/Users/gracer/Desktop/data' \n",
    "    prepro(basedir) #call prepro to do cool things \n",
    "    \n",
    "main()#call main to execute all our globals then run our prepro function"
   ]
  },
  {
   "cell_type": "markdown",
   "metadata": {
    "slideshow": {
     "slide_type": "slide"
    }
   },
   "source": [
    "##  What do we want the function to accomplish:"
   ]
  },
  {
   "cell_type": "markdown",
   "metadata": {
    "slideshow": {
     "slide_type": "subslide"
    }
   },
   "source": [
    "1. skull stripping\n",
    "2. motion correction\n",
    "  * creating motion regressors\n",
    "  * creating framewise displacement regressor\n",
    "  * a nice easy to read PDF/html?\n",
    "3. re-orient?\n",
    "4. trim extra TRs?"
   ]
  },
  {
   "cell_type": "markdown",
   "metadata": {
    "slideshow": {
     "slide_type": "slide"
    }
   },
   "source": [
    "## Let's fill in our main( ) function first with the global variables we will need."
   ]
  },
  {
   "cell_type": "code",
   "execution_count": 10,
   "metadata": {
    "collapsed": true,
    "slideshow": {
     "slide_type": "-"
    }
   },
   "outputs": [],
   "source": [
    "def main():\n",
    "    basedir='/Users/gracer/Desktop/data'\n",
    "    prepro()"
   ]
  },
  {
   "cell_type": "markdown",
   "metadata": {
    "slideshow": {
     "slide_type": "slide"
    }
   },
   "source": [
    "## Anything you define in the main( ) function has to become an argument in the prepro( ) function. "
   ]
  },
  {
   "cell_type": "code",
   "execution_count": 12,
   "metadata": {
    "slideshow": {
     "slide_type": "-"
    }
   },
   "outputs": [],
   "source": [
    "def prepro(basedir):\n",
    "    print('Hello data in the path '+basedir)\n",
    "def main():\n",
    "    basedir='/Users/gracer/Desktop/data'\n",
    "    prepro(basedir)"
   ]
  },
  {
   "cell_type": "markdown",
   "metadata": {
    "slideshow": {
     "slide_type": "slide"
    }
   },
   "source": [
    "## Let's start with skull stripping using fsl's BET function. This is a linux based command so we are going to need to use a module to python to understand it."
   ]
  },
  {
   "cell_type": "markdown",
   "metadata": {
    "slideshow": {
     "slide_type": "slide"
    }
   },
   "source": [
    "## Normally at the command line we would run something like this:\n",
    "```\n",
    "bet input output [options]\n",
    "```"
   ]
  },
  {
   "cell_type": "markdown",
   "metadata": {
    "slideshow": {
     "slide_type": "subslide"
    }
   },
   "source": [
    "## In python we can use the os module to run linux commands"
   ]
  },
  {
   "cell_type": "markdown",
   "metadata": {
    "slideshow": {
     "slide_type": "-"
    }
   },
   "source": [
    "```\n",
    "os.system(bet input output -F)\n",
    "```"
   ]
  },
  {
   "cell_type": "markdown",
   "metadata": {
    "slideshow": {
     "slide_type": "slide"
    }
   },
   "source": [
    "## next lets take a close look at the input and output we need. What will the input look like? What do we want the output to look like?\n"
   ]
  },
  {
   "cell_type": "code",
   "execution_count": 13,
   "metadata": {
    "collapsed": true,
    "slideshow": {
     "slide_type": "subslide"
    }
   },
   "outputs": [],
   "source": [
    "input='/Users/gracer/Desktop/data/<subject number>/func/<nifiti_file>'\n"
   ]
  },
  {
   "cell_type": "markdown",
   "metadata": {
    "slideshow": {
     "slide_type": "slide"
    }
   },
   "source": [
    "## Each time we run this command the only things we really need to change are the subject number and the name of the nifti file"
   ]
  },
  {
   "cell_type": "markdown",
   "metadata": {
    "slideshow": {
     "slide_type": "subslide"
    }
   },
   "source": [
    "## Our subject numbers and nifti files use a predictable pattern, so we can use the glob module to find everything with a similar pattern. Here we are going to use a wildcard character (*) to represent the portions of the subject number that differ."
   ]
  },
  {
   "cell_type": "code",
   "execution_count": 14,
   "metadata": {},
   "outputs": [
    {
     "name": "stdout",
     "output_type": "stream",
     "text": [
      "['/Users/gracer/Desktop/data/sub-10159/func/sub-10159_task-bart_bold_bra.nii.gz', '/Users/gracer/Desktop/data/sub-10159/func/sub-10159_task-bart_bold_bra_mask.nii.gz', '/Users/gracer/Desktop/data/sub-10159/func/sub-10159_task-bart_bold_brain.nii.gz', '/Users/gracer/Desktop/data/sub-10159/func/sub-10159_task-bart_bold_brain_mask.nii.gz']\n"
     ]
    }
   ],
   "source": [
    "input=glob.glob('/Users/gracer/Desktop/data/sub-*/func/sub-*.nii.gz')\n",
    "print input[1:5]"
   ]
  },
  {
   "cell_type": "markdown",
   "metadata": {
    "collapsed": true,
    "slideshow": {
     "slide_type": "slide"
    }
   },
   "source": [
    "## glob has created a list with everything matching our pattern criteria. We can use any of python's list comprehension tools to further explore the list"
   ]
  },
  {
   "cell_type": "code",
   "execution_count": 15,
   "metadata": {},
   "outputs": [
    {
     "data": {
      "text/plain": [
       "152"
      ]
     },
     "execution_count": 15,
     "metadata": {},
     "output_type": "execute_result"
    }
   ],
   "source": [
    "len(input)"
   ]
  },
  {
   "cell_type": "code",
   "execution_count": 16,
   "metadata": {},
   "outputs": [
    {
     "data": {
      "text/plain": [
       "'/Users/gracer/Desktop/data/sub-10159/func/sub-10159_task-bart_bold_bra.nii.gz'"
      ]
     },
     "execution_count": 16,
     "metadata": {},
     "output_type": "execute_result"
    }
   ],
   "source": [
    "input[1]"
   ]
  },
  {
   "cell_type": "markdown",
   "metadata": {
    "slideshow": {
     "slide_type": "slide"
    }
   },
   "source": [
    "## we can also take any element from the list and make it a string. By making a string we can grab IDs or other parts of interest"
   ]
  },
  {
   "cell_type": "code",
   "execution_count": 17,
   "metadata": {
    "slideshow": {
     "slide_type": "subslide"
    }
   },
   "outputs": [
    {
     "name": "stdout",
     "output_type": "stream",
     "text": [
      "this is /Users/gracer/Desktop/data/sub-10159/func/sub-10159_task-bart_bold_bra.nii.gz\n",
      "['', 'Users', 'gracer', 'Desktop', 'data', 'sub-10159', 'func', 'sub-10159_task-bart_bold_bra.nii.gz']\n",
      "sub-10159\n"
     ]
    }
   ],
   "source": [
    "x=input[1]\n",
    "print('this is '+x)\n",
    "y=x.split('/')\n",
    "print (y)\n",
    "sub=y[5]\n",
    "print sub"
   ]
  },
  {
   "cell_type": "markdown",
   "metadata": {},
   "source": [
    "## Let's make this look a little nicer"
   ]
  },
  {
   "cell_type": "code",
   "execution_count": 18,
   "metadata": {},
   "outputs": [
    {
     "name": "stdout",
     "output_type": "stream",
     "text": [
      "sub-10159\n"
     ]
    }
   ],
   "source": [
    "sub=input[1].split('/')[5]\n",
    "print(sub)"
   ]
  },
  {
   "cell_type": "markdown",
   "metadata": {
    "slideshow": {
     "slide_type": "slide"
    }
   },
   "source": [
    "## Now we have the subject number but it looks like we have multiple tasks. How can we split an element from the list to get the task information and the subject information?"
   ]
  },
  {
   "cell_type": "code",
   "execution_count": 19,
   "metadata": {},
   "outputs": [
    {
     "name": "stdout",
     "output_type": "stream",
     "text": [
      "sub-10159_task-bart_bold_bra\n"
     ]
    }
   ],
   "source": [
    "subtask=input[1].split('/')[7].split('.')[0]\n",
    "#subtask=subtask.strip('.nii.gz')\n",
    "print(subtask)"
   ]
  },
  {
   "cell_type": "code",
   "execution_count": 20,
   "metadata": {},
   "outputs": [
    {
     "name": "stdout",
     "output_type": "stream",
     "text": [
      "sub-10159_task-bart_bold_bra_brain\n"
     ]
    }
   ],
   "source": [
    "output=subtask+'_brain'\n",
    "print(output)"
   ]
  },
  {
   "cell_type": "markdown",
   "metadata": {
    "slideshow": {
     "slide_type": "slide"
    }
   },
   "source": [
    "## Lets go back to our bet command in the os wrapper. We now have all the elements we need to execute it."
   ]
  },
  {
   "cell_type": "code",
   "execution_count": 21,
   "metadata": {},
   "outputs": [
    {
     "ename": "SyntaxError",
     "evalue": "invalid syntax (<ipython-input-21-c263dd53731b>, line 1)",
     "output_type": "error",
     "traceback": [
      "\u001b[0;36m  File \u001b[0;32m\"<ipython-input-21-c263dd53731b>\"\u001b[0;36m, line \u001b[0;32m1\u001b[0m\n\u001b[0;31m    os.system('bet' x output '-F')\u001b[0m\n\u001b[0m                    ^\u001b[0m\n\u001b[0;31mSyntaxError\u001b[0m\u001b[0;31m:\u001b[0m invalid syntax\n"
     ]
    }
   ],
   "source": [
    "os.system('bet' x output '-F')"
   ]
  },
  {
   "cell_type": "markdown",
   "metadata": {
    "slideshow": {
     "slide_type": "slide"
    }
   },
   "source": [
    "## This is a problem, we have our input defined, but it looks like os.system is expecting a string argument. \n",
    "## We need to use another wildcare to pass our variables as strings! "
   ]
  },
  {
   "cell_type": "code",
   "execution_count": 22,
   "metadata": {},
   "outputs": [
    {
     "data": {
      "text/plain": [
       "0"
      ]
     },
     "execution_count": 22,
     "metadata": {},
     "output_type": "execute_result"
    }
   ],
   "source": [
    "#os.system('bet' x output '-F')\n",
    "os.system('bet %s %s -F'%(x, output))"
   ]
  },
  {
   "cell_type": "markdown",
   "metadata": {},
   "source": [
    "## The %s is a placeholder for string variable\n",
    "The **%** lets python know to look to the % sign outside the string for the variable of interest. \n",
    "We could also use this to pass **integers and floats using %i and %f** respectively."
   ]
  },
  {
   "cell_type": "markdown",
   "metadata": {
    "collapsed": true,
    "slideshow": {
     "slide_type": "slide"
    }
   },
   "source": [
    "## Now we have the ability to run bet through python on one subject.... but what about all the other scans.... ? GLOB!"
   ]
  },
  {
   "cell_type": "code",
   "execution_count": 23,
   "metadata": {
    "collapsed": true
   },
   "outputs": [],
   "source": [
    "input=glob.glob('/Users/gracer/Desktop/data/sub-*/func/sub-*.nii.gz')\n",
    "#this is a little long to type each time, and it is really easy to mess up the / formating "
   ]
  },
  {
   "cell_type": "markdown",
   "metadata": {
    "slideshow": {
     "slide_type": "slide"
    }
   },
   "source": [
    "## os.path.join( ) is super useful to quickly define paths. It will format strings into paths and allows us to use the %s "
   ]
  },
  {
   "cell_type": "code",
   "execution_count": 24,
   "metadata": {},
   "outputs": [
    {
     "name": "stdout",
     "output_type": "stream",
     "text": [
      "/Users/gracer/Desktop/data/sub-*/func/sub-*.niig.gz\n",
      "['/Users/gracer/Desktop/data/sub-10159/func/sub-10159_task-bart_bold_bra.nii.gz', '/Users/gracer/Desktop/data/sub-10159/func/sub-10159_task-bart_bold_bra_mask.nii.gz', '/Users/gracer/Desktop/data/sub-10159/func/sub-10159_task-bart_bold_brain.nii.gz', '/Users/gracer/Desktop/data/sub-10159/func/sub-10159_task-bart_bold_brain_mask.nii.gz']\n"
     ]
    }
   ],
   "source": [
    "#input=glob.glob('/Users/gracer/Desktop/data/sub-*/func/sub-*.nii.gz')\n",
    "basedir='/Users/gracer/Desktop/data'\n",
    "path=os.path.join(basedir,'sub-*','func','sub-*.niig.gz')\n",
    "print(path)\n",
    "input=glob.glob(os.path.join(basedir,'sub-*','func','sub-*.nii.gz'))\n",
    "print(input[1:5])"
   ]
  },
  {
   "cell_type": "markdown",
   "metadata": {
    "slideshow": {
     "slide_type": "slide"
    }
   },
   "source": [
    "## Let's put this altogether into our function prepro( ) with a loop"
   ]
  },
  {
   "cell_type": "code",
   "execution_count": null,
   "metadata": {
    "collapsed": true
   },
   "outputs": [],
   "source": [
    "def prepro(basedir):\n",
    "    for item in glob.glob(os.path.join(basedir,'sub-*','func','sub-*.nii.gz')):\n",
    "        input=item\n",
    "        output_path=item.strip('.nii.gz')\n",
    "        output=output_path+('_brain')\n",
    "        os.system(\"/usr/local/fsl/bin/bet %s %s -F\"%(input, output))\n",
    "        pdb.set_trace()\n",
    "def main():\n",
    "    basedir='/Users/gracer/Desktop/data'\n",
    "    prepro(basedir)"
   ]
  },
  {
   "cell_type": "code",
   "execution_count": null,
   "metadata": {},
   "outputs": [
    {
     "name": "stdout",
     "output_type": "stream",
     "text": [
      "> <ipython-input-25-807966444b94>(2)prepro()\n",
      "-> for item in glob.glob(os.path.join(basedir,'sub-*','func','sub-*.nii.gz')):\n"
     ]
    }
   ],
   "source": [
    "main()"
   ]
  },
  {
   "cell_type": "markdown",
   "metadata": {
    "slideshow": {
     "slide_type": "slide"
    }
   },
   "source": [
    "## Ta Da!!! You have your first preprocessing script! \n",
    "### But wait... how do you make sure you don't end up running the same function on the same data over and over?\n",
    "### Let's write in a check statement"
   ]
  },
  {
   "cell_type": "markdown",
   "metadata": {
    "slideshow": {
     "slide_type": "slide"
    }
   },
   "source": [
    "## We can use os.path.exists( ) to check if we have already run BET, and tell our function to skip that subject\n",
    "### This is useful if you have two people preprocessing data, or if something happens (aka your computer runs out of power) "
   ]
  },
  {
   "cell_type": "code",
   "execution_count": null,
   "metadata": {
    "collapsed": true
   },
   "outputs": [],
   "source": [
    "def prepro(basedir):\n",
    "    for item in glob.glob(os.path.join(basedir,'sub-*','func','sub-*.nii.gz')):\n",
    "        input=item\n",
    "        output_path=item.strip('.nii.gz')\n",
    "        output=output_path+'_brain.nii.gz'\n",
    "        print(output)\n",
    "        pdb.set_trace()\n",
    "        if os.path.exists(output):\n",
    "            print(output_path+' is already stripped')\n",
    "        else:\n",
    "            os.system(\"/usr/local/fsl/bin/bet %s %s -F\"%(input, output))\n",
    "        #pdb.set_trace()\n",
    "def main():\n",
    "    basedir='/Users/gracer/Desktop/data'\n",
    "    prepro(basedir)"
   ]
  },
  {
   "cell_type": "code",
   "execution_count": null,
   "metadata": {
    "scrolled": true
   },
   "outputs": [],
   "source": [
    "main()"
   ]
  },
  {
   "cell_type": "markdown",
   "metadata": {
    "collapsed": true,
    "slideshow": {
     "slide_type": "slide"
    }
   },
   "source": [
    "## Now that we know how:\n",
    "1. To make a set of functions\n",
    "2. Set our global variables\n",
    "3. Wrap our linux commands\n",
    "4. Use glob to get all our subjects through wildcard matching\n",
    "5. Loop through our list of subjects (from glob)\n",
    "6. Use string comprehension to format file names\n",
    "7. Use if/else loops to check for existing data\n",
    "### Try writing a function to skull strip a T1w scan"
   ]
  },
  {
   "cell_type": "code",
   "execution_count": null,
   "metadata": {
    "collapsed": true
   },
   "outputs": [],
   "source": []
  }
 ],
 "metadata": {
  "celltoolbar": "Slideshow",
  "kernelspec": {
   "display_name": "Python 2",
   "language": "python",
   "name": "python2"
  },
  "language_info": {
   "codemirror_mode": {
    "name": "ipython",
    "version": 2
   },
   "file_extension": ".py",
   "mimetype": "text/x-python",
   "name": "python",
   "nbconvert_exporter": "python",
   "pygments_lexer": "ipython2",
   "version": "2.7.14"
  }
 },
 "nbformat": 4,
 "nbformat_minor": 2
}
