{
 "cells": [
  {
   "cell_type": "markdown",
   "metadata": {
    "slideshow": {
     "slide_type": "slide"
    }
   },
   "source": [
    "# Writing a preprocessing script in python\n"
   ]
  },
  {
   "cell_type": "markdown",
   "metadata": {
    "slideshow": {
     "slide_type": "slide"
    }
   },
   "source": [
    "## First thing we will always do is load our modules"
   ]
  },
  {
   "cell_type": "code",
   "execution_count": 1,
   "metadata": {
    "collapsed": true,
    "slideshow": {
     "slide_type": "-"
    }
   },
   "outputs": [],
   "source": [
    "import glob\n",
    "import os\n",
    "import pdb\n",
    "import subprocess\n",
    "import argparse\n",
    "import datetime"
   ]
  },
  {
   "cell_type": "markdown",
   "metadata": {
    "slideshow": {
     "slide_type": "subslide"
    }
   },
   "source": [
    "### Often times we won't know all the modules we want to import right off the bat  but I like to make sure that as I am scripting I always put my modules at the top this allows others who may use my script to make sure they have all the necessary tools"
   ]
  },
  {
   "cell_type": "markdown",
   "metadata": {
    "slideshow": {
     "slide_type": "slide"
    }
   },
   "source": [
    "## Now lets start by building a function that will hold all the commands we want to execute"
   ]
  },
  {
   "cell_type": "markdown",
   "metadata": {
    "slideshow": {
     "slide_type": "-"
    }
   },
   "source": [
    "```\n",
    "def prepro():\n",
    "    #do something cool\n",
    "```"
   ]
  },
  {
   "cell_type": "markdown",
   "metadata": {
    "slideshow": {
     "slide_type": "-"
    }
   },
   "source": [
    "## We will make a function that will hold all of our global variables and our above function\n",
    "## I personally like to call this main"
   ]
  },
  {
   "cell_type": "markdown",
   "metadata": {
    "collapsed": true
   },
   "source": [
    "```\n",
    "def main():\n",
    "    prepro()\n",
    "```"
   ]
  },
  {
   "cell_type": "markdown",
   "metadata": {
    "slideshow": {
     "slide_type": "slide"
    }
   },
   "source": [
    "## Finally we have our two functions and lastly we will call our main( ) which will execute both our global variables and our command function"
   ]
  },
  {
   "cell_type": "code",
   "execution_count": 9,
   "metadata": {
    "slideshow": {
     "slide_type": "-"
    }
   },
   "outputs": [
    {
     "name": "stdout",
     "output_type": "stream",
     "text": [
      "Hello data in the path /Users/gracer/Desktop/data\n"
     ]
    }
   ],
   "source": [
    "def prepro(basedir):\n",
    "    #Do something cool\n",
    "    print('Hello data in the path '+basedir)\n",
    "def main():\n",
    "    #load in all the global variables prepro needs, right now this is just the path to the data\n",
    "    basedir='/Users/gracer/Desktop/data' \n",
    "    prepro(basedir) #call prepro to do cool things \n",
    "    \n",
    "main()#call main to execute all our globals then run our prepro function"
   ]
  },
  {
   "cell_type": "markdown",
   "metadata": {
    "slideshow": {
     "slide_type": "slide"
    }
   },
   "source": [
    "##  What do we want the function to accomplish:"
   ]
  },
  {
   "cell_type": "markdown",
   "metadata": {
    "slideshow": {
     "slide_type": "subslide"
    }
   },
   "source": [
    "1. skull stripping\n",
    "2. motion correction\n",
    "  * creating motion regressors\n",
    "  * creating framewise displacement regressor\n",
    "  * a nice easy to read PDF/html?\n",
    "3. re-orient?\n",
    "4. trim extra TRs?"
   ]
  },
  {
   "cell_type": "markdown",
   "metadata": {
    "slideshow": {
     "slide_type": "slide"
    }
   },
   "source": [
    "## Let's fill in our main( ) function first with the global variables we will need."
   ]
  },
  {
   "cell_type": "code",
   "execution_count": 10,
   "metadata": {
    "collapsed": true,
    "slideshow": {
     "slide_type": "-"
    }
   },
   "outputs": [],
   "source": [
    "def main():\n",
    "    basedir='/Users/gracer/Desktop/data'\n",
    "    prepro()"
   ]
  },
  {
   "cell_type": "markdown",
   "metadata": {
    "slideshow": {
     "slide_type": "slide"
    }
   },
   "source": [
    "## Anything you define in the main( ) function has to become an argument in the prepro( ) function. "
   ]
  },
  {
   "cell_type": "code",
   "execution_count": 12,
   "metadata": {
    "collapsed": true,
    "slideshow": {
     "slide_type": "-"
    }
   },
   "outputs": [],
   "source": [
    "def prepro(basedir):\n",
    "    print('Hello data in the path '+basedir)\n",
    "def main():\n",
    "    basedir='/Users/gracer/Desktop/data'\n",
    "    prepro(basedir)"
   ]
  },
  {
   "cell_type": "markdown",
   "metadata": {
    "slideshow": {
     "slide_type": "slide"
    }
   },
   "source": [
    "## Let's start with skull stripping using fsl's BET function. This is a linux based command so we are going to need to use a module to python to understand it."
   ]
  },
  {
   "cell_type": "markdown",
   "metadata": {
    "slideshow": {
     "slide_type": "slide"
    }
   },
   "source": [
    "## Normally at the command line we would run something like this:\n",
    "\n",
    "```\n",
    "bet input output [options]\n",
    "```"
   ]
  },
  {
   "cell_type": "markdown",
   "metadata": {
    "slideshow": {
     "slide_type": "subslide"
    }
   },
   "source": [
    "## In python we can use the os module to run linux commands"
   ]
  },
  {
   "cell_type": "markdown",
   "metadata": {
    "slideshow": {
     "slide_type": "-"
    }
   },
   "source": [
    "```\n",
    "os.system(bet input output -F)\n",
    "```"
   ]
  },
  {
   "cell_type": "code",
   "execution_count": 8,
   "metadata": {},
   "outputs": [
    {
     "name": "stdout",
     "output_type": "stream",
     "text": [
      "0\n"
     ]
    }
   ],
   "source": [
    "\n",
    "#try running this \n",
    "\n",
    "print(os.system('echo $FSLDIR'))\n",
    "\n",
    "\n",
    "#now look at the terminal you launched your jupyter notebook from\n"
   ]
  },
  {
   "cell_type": "markdown",
   "metadata": {
    "slideshow": {
     "slide_type": "slide"
    }
   },
   "source": [
    "## next lets take a close look at the input and output we need. What will the input look like? What do we want the output to look like?\n"
   ]
  },
  {
   "cell_type": "code",
   "execution_count": 13,
   "metadata": {
    "collapsed": true,
    "slideshow": {
     "slide_type": "subslide"
    }
   },
   "outputs": [],
   "source": [
    "input='/Users/gracer/Desktop/data/<subject number>/func/<nifiti_file>'\n"
   ]
  },
  {
   "cell_type": "markdown",
   "metadata": {
    "slideshow": {
     "slide_type": "slide"
    }
   },
   "source": [
    "## Each time we run this command the only things we really need to change are the subject number and the name of the nifti file"
   ]
  },
  {
   "cell_type": "markdown",
   "metadata": {
    "slideshow": {
     "slide_type": "subslide"
    }
   },
   "source": [
    "## Our subject numbers and nifti files use a predictable pattern! \n",
    "## We can use the glob module to find everything with a similar pattern. \n",
    "## Here we are going to use a wildcard character (*) to represent the portions of the subject number that differ."
   ]
  },
  {
   "cell_type": "code",
   "execution_count": 10,
   "metadata": {},
   "outputs": [
    {
     "name": "stdout",
     "output_type": "stream",
     "text": [
      "['/Users/gracer/Desktop/data/sub-10159/func/sub-10159_task-bart_bold_brain.nii.gz', '/Users/gracer/Desktop/data/sub-10159/func/sub-10159_task-bart_bold_brain_mask.nii.gz', '/Users/gracer/Desktop/data/sub-10159/func/sub-10159_task-bart_bold_brain_mcf.nii.gz', '/Users/gracer/Desktop/data/sub-10159/func/sub-10159_task-rest_bold.nii.gz']\n"
     ]
    }
   ],
   "source": [
    "input=glob.glob('/Users/gracer/Desktop/data/sub-*/func/sub-*.nii.gz')\n",
    "print input[1:5]"
   ]
  },
  {
   "cell_type": "markdown",
   "metadata": {
    "collapsed": true,
    "slideshow": {
     "slide_type": "slide"
    }
   },
   "source": [
    "## glob has created a list with everything matching our pattern criteria. We can use any of python's list comprehension tools to further explore the list"
   ]
  },
  {
   "cell_type": "code",
   "execution_count": 11,
   "metadata": {},
   "outputs": [
    {
     "data": {
      "text/plain": [
       "149"
      ]
     },
     "execution_count": 11,
     "metadata": {},
     "output_type": "execute_result"
    }
   ],
   "source": [
    "len(input)"
   ]
  },
  {
   "cell_type": "code",
   "execution_count": 12,
   "metadata": {},
   "outputs": [
    {
     "data": {
      "text/plain": [
       "'/Users/gracer/Desktop/data/sub-10159/func/sub-10159_task-bart_bold_brain.nii.gz'"
      ]
     },
     "execution_count": 12,
     "metadata": {},
     "output_type": "execute_result"
    }
   ],
   "source": [
    "input[1]"
   ]
  },
  {
   "cell_type": "markdown",
   "metadata": {
    "slideshow": {
     "slide_type": "slide"
    }
   },
   "source": [
    "## We can also take any element from the list and make it a string. By making a string we can grab IDs or other parts of interest"
   ]
  },
  {
   "cell_type": "code",
   "execution_count": 13,
   "metadata": {
    "slideshow": {
     "slide_type": "subslide"
    }
   },
   "outputs": [
    {
     "name": "stdout",
     "output_type": "stream",
     "text": [
      "this is /Users/gracer/Desktop/data/sub-10159/func/sub-10159_task-bart_bold_brain.nii.gz\n",
      "['', 'Users', 'gracer', 'Desktop', 'data', 'sub-10159', 'func', 'sub-10159_task-bart_bold_brain.nii.gz']\n",
      "sub-10159\n"
     ]
    }
   ],
   "source": [
    "x=input[1]\n",
    "print('this is '+x)\n",
    "y=x.split('/')\n",
    "print (y)\n",
    "sub=y[5]\n",
    "print sub"
   ]
  },
  {
   "cell_type": "markdown",
   "metadata": {},
   "source": [
    "## Let's make this look a little nicer"
   ]
  },
  {
   "cell_type": "code",
   "execution_count": 14,
   "metadata": {},
   "outputs": [
    {
     "name": "stdout",
     "output_type": "stream",
     "text": [
      "sub-10159\n"
     ]
    }
   ],
   "source": [
    "sub=input[1].split('/')[5]\n",
    "print(sub)"
   ]
  },
  {
   "cell_type": "markdown",
   "metadata": {
    "slideshow": {
     "slide_type": "slide"
    }
   },
   "source": [
    "## Now we have the subject number but it looks like we have multiple tasks. How can we split an element from the list to get the task information and the subject information?"
   ]
  },
  {
   "cell_type": "code",
   "execution_count": 15,
   "metadata": {},
   "outputs": [
    {
     "name": "stdout",
     "output_type": "stream",
     "text": [
      "sub-10159_task-bart_bold_brain\n"
     ]
    }
   ],
   "source": [
    "subtask=input[1].split('/')[7].split('.')[0]\n",
    "#subtask=subtask.strip('.nii.gz')\n",
    "print(subtask)"
   ]
  },
  {
   "cell_type": "code",
   "execution_count": 16,
   "metadata": {},
   "outputs": [
    {
     "name": "stdout",
     "output_type": "stream",
     "text": [
      "sub-10159_task-bart_bold_brain_brain\n"
     ]
    }
   ],
   "source": [
    "output=subtask+'_brain'\n",
    "print(output)"
   ]
  },
  {
   "cell_type": "markdown",
   "metadata": {
    "slideshow": {
     "slide_type": "slide"
    }
   },
   "source": [
    "## Lets go back to our bet command in the os wrapper. We now have all the elements we need to execute it."
   ]
  },
  {
   "cell_type": "code",
   "execution_count": 17,
   "metadata": {
    "slideshow": {
     "slide_type": "subslide"
    }
   },
   "outputs": [
    {
     "ename": "SyntaxError",
     "evalue": "invalid syntax (<ipython-input-17-c263dd53731b>, line 1)",
     "output_type": "error",
     "traceback": [
      "\u001b[0;36m  File \u001b[0;32m\"<ipython-input-17-c263dd53731b>\"\u001b[0;36m, line \u001b[0;32m1\u001b[0m\n\u001b[0;31m    os.system('bet' x output '-F')\u001b[0m\n\u001b[0m                    ^\u001b[0m\n\u001b[0;31mSyntaxError\u001b[0m\u001b[0;31m:\u001b[0m invalid syntax\n"
     ]
    }
   ],
   "source": [
    "os.system('bet' x output '-F')"
   ]
  },
  {
   "cell_type": "markdown",
   "metadata": {
    "slideshow": {
     "slide_type": "slide"
    }
   },
   "source": [
    "## This is a problem, we have our input defined, but it looks like os.system is expecting a string argument. \n",
    "## We need to use another wildcare to pass our variables as strings! "
   ]
  },
  {
   "cell_type": "code",
   "execution_count": 22,
   "metadata": {},
   "outputs": [
    {
     "data": {
      "text/plain": [
       "0"
      ]
     },
     "execution_count": 22,
     "metadata": {},
     "output_type": "execute_result"
    }
   ],
   "source": [
    "#os.system('bet' x output '-F')\n",
    "os.system('bet %s %s -F'%(x, output))"
   ]
  },
  {
   "cell_type": "markdown",
   "metadata": {},
   "source": [
    "## The %s is a placeholder for string variable\n",
    "The **%** lets python know to look to the % sign outside the string for the variable of interest. \n",
    "We could also use this to pass **integers and floats using %i and %f** respectively."
   ]
  },
  {
   "cell_type": "markdown",
   "metadata": {
    "collapsed": true,
    "slideshow": {
     "slide_type": "slide"
    }
   },
   "source": [
    "## Now we have the ability to run bet through python on one subject.... but what about all the other scans.... ? "
   ]
  },
  {
   "cell_type": "markdown",
   "metadata": {
    "slideshow": {
     "slide_type": "subslide"
    }
   },
   "source": [
    "![](https://i.imgur.com/itVtNcK.gif)"
   ]
  },
  {
   "cell_type": "code",
   "execution_count": 1,
   "metadata": {
    "hideOutput": true
   },
   "outputs": [
    {
     "ename": "NameError",
     "evalue": "name 'glob' is not defined",
     "output_type": "error",
     "traceback": [
      "\u001b[0;31m---------------------------------------------------------------------------\u001b[0m",
      "\u001b[0;31mNameError\u001b[0m                                 Traceback (most recent call last)",
      "\u001b[0;32m<ipython-input-1-4e60444a7e4b>\u001b[0m in \u001b[0;36m<module>\u001b[0;34m()\u001b[0m\n\u001b[0;32m----> 1\u001b[0;31m \u001b[0minput\u001b[0m\u001b[0;34m=\u001b[0m\u001b[0mglob\u001b[0m\u001b[0;34m.\u001b[0m\u001b[0mglob\u001b[0m\u001b[0;34m(\u001b[0m\u001b[0;34m'/Users/gracer/Desktop/data/sub-*/func/sub-*.nii.gz'\u001b[0m\u001b[0;34m)\u001b[0m\u001b[0;34m\u001b[0m\u001b[0m\n\u001b[0m\u001b[1;32m      2\u001b[0m \u001b[0;34m\u001b[0m\u001b[0m\n\u001b[1;32m      3\u001b[0m '''\n\u001b[1;32m      4\u001b[0m \u001b[0mthis\u001b[0m \u001b[0;32mis\u001b[0m \u001b[0ma\u001b[0m \u001b[0mlittle\u001b[0m \u001b[0mlong\u001b[0m \u001b[0mto\u001b[0m \u001b[0mtype\u001b[0m \u001b[0meach\u001b[0m \u001b[0mtime\u001b[0m\u001b[0;34m,\u001b[0m\u001b[0;34m\u001b[0m\u001b[0m\n\u001b[1;32m      5\u001b[0m \u001b[0;32mand\u001b[0m \u001b[0mit\u001b[0m \u001b[0;32mis\u001b[0m \u001b[0mreally\u001b[0m \u001b[0measy\u001b[0m \u001b[0mto\u001b[0m \u001b[0mmess\u001b[0m \u001b[0mup\u001b[0m \u001b[0mthe\u001b[0m \u001b[0;34m/\u001b[0m \u001b[0mformating\u001b[0m\u001b[0;34m\u001b[0m\u001b[0m\n",
      "\u001b[0;31mNameError\u001b[0m: name 'glob' is not defined"
     ]
    }
   ],
   "source": [
    "input=glob.glob('/Users/gracer/Desktop/data/sub-*/func/sub-*.nii.gz')\n",
    "\n",
    "'''\n",
    "this is a little long to type each time, \n",
    "and it is really easy to mess up the / formating \n",
    "'''"
   ]
  },
  {
   "cell_type": "markdown",
   "metadata": {
    "slideshow": {
     "slide_type": "slide"
    }
   },
   "source": [
    "## os.path.join( ) is super useful to quickly define paths. It will format strings into paths and allows us to use the %s "
   ]
  },
  {
   "cell_type": "code",
   "execution_count": 24,
   "metadata": {},
   "outputs": [
    {
     "name": "stdout",
     "output_type": "stream",
     "text": [
      "/Users/gracer/Desktop/data/sub-*/func/sub-*.niig.gz\n",
      "['/Users/gracer/Desktop/data/sub-10159/func/sub-10159_task-bart_bold_bra.nii.gz', '/Users/gracer/Desktop/data/sub-10159/func/sub-10159_task-bart_bold_bra_mask.nii.gz', '/Users/gracer/Desktop/data/sub-10159/func/sub-10159_task-bart_bold_brain.nii.gz', '/Users/gracer/Desktop/data/sub-10159/func/sub-10159_task-bart_bold_brain_mask.nii.gz']\n"
     ]
    }
   ],
   "source": [
    "#input=glob.glob('/Users/gracer/Desktop/data/sub-*/func/sub-*.nii.gz')\n",
    "basedir='/Users/gracer/Desktop/data'\n",
    "path=os.path.join(basedir,'sub-*','func','sub-*.niig.gz')\n",
    "print(path)\n",
    "input=glob.glob(os.path.join(basedir,'sub-*','func','sub-*.nii.gz'))\n",
    "print(input[1:5])"
   ]
  },
  {
   "cell_type": "markdown",
   "metadata": {
    "slideshow": {
     "slide_type": "slide"
    }
   },
   "source": [
    "## Let's put this altogether into our function prepro( ) with a loop"
   ]
  },
  {
   "cell_type": "code",
   "execution_count": null,
   "metadata": {
    "collapsed": true
   },
   "outputs": [],
   "source": [
    "def prepro(basedir):\n",
    "    for item in glob.glob(os.path.join(basedir,'sub-*','func','sub-*.nii.gz')):\n",
    "        input=item\n",
    "        output_path=item.strip('.nii.gz')\n",
    "        output=output_path+('_brain')\n",
    "        os.system(\"/usr/local/fsl/bin/bet %s %s -F\"%(input, output))\n",
    "        pdb.set_trace()\n",
    "def main():\n",
    "    basedir='/Users/gracer/Desktop/data'\n",
    "    prepro(basedir)"
   ]
  },
  {
   "cell_type": "code",
   "execution_count": null,
   "metadata": {},
   "outputs": [
    {
     "name": "stdout",
     "output_type": "stream",
     "text": [
      "> <ipython-input-25-807966444b94>(2)prepro()\n",
      "-> for item in glob.glob(os.path.join(basedir,'sub-*','func','sub-*.nii.gz')):\n"
     ]
    }
   ],
   "source": [
    "main()"
   ]
  },
  {
   "cell_type": "markdown",
   "metadata": {
    "slideshow": {
     "slide_type": "slide"
    }
   },
   "source": [
    "## Ta Da!!! You have your first preprocessing script! \n",
    "### But wait... how do you make sure you don't end up running the same function on the same data over and over?\n",
    "### Let's write in a check statement"
   ]
  },
  {
   "cell_type": "markdown",
   "metadata": {
    "slideshow": {
     "slide_type": "slide"
    }
   },
   "source": [
    "## We can use os.path.exists( ) to check if we have already run BET, and tell our function to skip that subject\n",
    "### This is useful if you have two people preprocessing data, or if something happens (aka your computer runs out of power) "
   ]
  },
  {
   "cell_type": "code",
   "execution_count": null,
   "metadata": {
    "collapsed": true
   },
   "outputs": [],
   "source": [
    "def prepro(basedir):\n",
    "    for item in glob.glob(os.path.join(basedir,'sub-*','func','sub-*.nii.gz')):\n",
    "        input=item\n",
    "        output_path=item.strip('.nii.gz')\n",
    "        output=output_path+'_brain.nii.gz'\n",
    "        print(output)\n",
    "        pdb.set_trace()\n",
    "        if os.path.exists(output):\n",
    "            print(output_path+' is already stripped')\n",
    "        else:\n",
    "            os.system(\"/usr/local/fsl/bin/bet %s %s -F\"%(input, output))\n",
    "        #pdb.set_trace()\n",
    "def main():\n",
    "    basedir='/Users/gracer/Desktop/data'\n",
    "    prepro(basedir)"
   ]
  },
  {
   "cell_type": "code",
   "execution_count": null,
   "metadata": {
    "collapsed": true,
    "scrolled": true
   },
   "outputs": [],
   "source": [
    "main()"
   ]
  },
  {
   "cell_type": "markdown",
   "metadata": {
    "collapsed": true,
    "slideshow": {
     "slide_type": "slide"
    }
   },
   "source": [
    "## Now that we know how:\n",
    "1. To make a set of functions\n",
    "2. Set our global variables\n",
    "3. Wrap our linux commands\n",
    "4. Use glob to get all our subjects through wildcard matching\n",
    "5. Loop through our list of subjects (from glob)\n",
    "6. Use string comprehension to format file names\n",
    "7. Use if/else loops to check for existing data\n",
    "\n",
    "\n",
    "### Try writing a function to skull strip a T1w scan"
   ]
  },
  {
   "cell_type": "code",
   "execution_count": 2,
   "metadata": {
    "collapsed": true,
    "slideshow": {
     "slide_type": "slide"
    }
   },
   "outputs": [],
   "source": [
    "def prepro(basedir, args, arglist, DATA):\n",
    "#bet\n",
    "    if args.STRIP==True:\n",
    "        for sub in DATA:\n",
    "            for nifti in glob.glob(os.path.join(sub,'func','sub-*_task-%s_bold.nii.gz')%(arglist['TASK'])):\n",
    "                input=item\n",
    "                output_path=item.strip('.nii.gz')\n",
    "                output=output_path+'_brain.nii.gz'\n",
    "                print(output)\n",
    "            \n",
    "                if os.path.exists(output):\n",
    "                    print(output_path+' is already stripped')\n",
    "                else:\n",
    "                    os.system(\"/usr/local/fsl/bin/bet %s %s -F\"%(input, output))\n",
    "#bet rage\n",
    "    if args.RAGE==True:\n",
    "        print(\"starting bet rage\")\n",
    "        for sub in DATA:\n",
    "            for input in glob.glob(os.path.join(sub,'anat','*T1w.nii.gz')):\n",
    "                output=input.strip('.nii.gz')\n",
    "                print(output)\n",
    "                if os.path.exists(output+'_brain.nii.gz'):\n",
    "                    print(output+' exists, skipping')\n",
    "                else:\n",
    "                    BET_OUTPUT=output+'_defaced'\n",
    "                    x=(\"/usr/local/fsl/bin/bet %s %s -R\"%(input, BET_OUTPUT))\n",
    "                    print(x)\n",
    "                    os.system(x)\n",
    "   \n",
    "def main(DATA):\n",
    "    basedir='/Users/gracer/Desktop/data'\n",
    "    parser=argparse.ArgumentParser(description='preprocessing')\n",
    "    parser.add_argument('-task',dest='TASK',\n",
    "                        default=False, help='which task are we running on?')\n",
    "    parser.add_argument('-bet',dest='STRIP',action='store_true',\n",
    "                        default=False, help='bet via fsl using defaults for functional images')\n",
    "    parser.add_argument('-betrage',dest='RAGE',action='store_true',\n",
    "                        default=False, help='bet via fsl using robust estimation for anatomical images')\n",
    "    args = parser.parse_args()\n",
    "    arglist={}\n",
    "    for a in args._get_kwargs():\n",
    "        arglist[a[0]]=a[1]\n",
    "    print(arglist)\n",
    "    prepro(basedir, args, arglist, DATA)\n"
   ]
  },
  {
   "cell_type": "markdown",
   "metadata": {
    "slideshow": {
     "slide_type": "slide"
    }
   },
   "source": [
    "## Whoa what is all this extra stuff??? \n",
    "Let's take a look at all the new functionality that is possible "
   ]
  },
  {
   "cell_type": "markdown",
   "metadata": {
    "slideshow": {
     "slide_type": "fragment"
    }
   },
   "source": [
    "## argparse\n",
    "This will allow us to give user defined arguments\n",
    "### Why would I make my life more complicated?\n",
    "\n",
    "- This is a good option for if you have multiple people working on preprocessing \n",
    "\n",
    "\n",
    "- You want to make one giant preprocessing script and have control over which commands are run  \n",
    "   \n",
    "   Instead of a bunch of smaller functions that infividually have to be called "
   ]
  },
  {
   "cell_type": "code",
   "execution_count": 2,
   "metadata": {
    "slideshow": {
     "slide_type": "slide"
    }
   },
   "outputs": [],
   "source": [
    "def main(DATA):\n",
    "    basedir='/Users/gracer/Desktop/data'\n",
    "    parser=argparse.ArgumentParser(description='preprocessing')\n",
    "    parser.add_argument('-task',dest='TASK',\n",
    "                        default=False, help='which task are we running on?')\n",
    "    parser.add_argument('-bet',dest='STRIP',action='store_true',\n",
    "                        default=False, help='bet via fsl using defaults for functional images')\n",
    "    parser.add_argument('-betrage',dest='RAGE',action='store_true',\n",
    "                        default=False, help='bet via fsl using robust estimation for anatomical images')\n",
    "    args = parser.parse_args()\n",
    "    arglist={}\n",
    "    for a in args._get_kwargs():\n",
    "        arglist[a[0]]=a[1]\n",
    "    print(arglist)\n",
    "    prepro(basedir, args, arglist, DATA)\n"
   ]
  },
  {
   "cell_type": "markdown",
   "metadata": {
    "slideshow": {
     "slide_type": "slide"
    }
   },
   "source": [
    "* Define the parser, and give it a nice description \n",
    "\n",
    "```\n",
    "parser=argparse.ArgumentParser(description='preprocessing')\n",
    "\n",
    "```\n",
    "\n",
    "* Start thinking about arguments, these should be things that either trigger functionality or are global variables\n",
    "\n",
    "```\n",
    "parser.add_argument('-task',dest='TASK',\n",
    "                        default=False, help='which task are we running on?')\n",
    "parser.add_argument('-betrage',dest='RAGE',action='store_true',\n",
    "                        default=False, help='bet via fsl using robust estimation for anatomical images')\n",
    "\n",
    "```\n",
    "1. The first part is the flag, it will be entered with our script at the commandline\n",
    "2. Next is the destination, that is what the argparser is saving our input as\n",
    "3. We set the default to false, meaning you have to enter something for it to be true\n",
    "4. It is always nice to have a help especially if you are sharing your code!\n",
    "5. Action will store your variable, this is nice for instances where the presences of the flag indicates true\n",
    "\n",
    "\n",
    "* Put all our arguments in an variable called args\n",
    "\n",
    "```\n",
    "args = parser.parse_args()\n",
    "```\n",
    "\n",
    "* We could keep our arguments here and call them like this:\n",
    "\n",
    "```\n",
    "args.RAGE==True\n",
    "```\n",
    "\n",
    "* Personally I like putting them in a dictionary!\n",
    "\n",
    "```\n",
    "arglist={}\n",
    "    for a in args._get_kwargs():\n",
    "        arglist[a[0]]=a[1]\n",
    "```\n",
    "\n",
    "* Then you can call them in a dictionary form like this:\n",
    "\n",
    "```\n",
    "for nifti in glob.glob(os.path.join(sub,'func','sub-*_task-%s_bold.nii.gz')%(arglist['TASK'])):\n",
    "```\n",
    "\n",
    "* The key is 'TASK' and python will understand that to be what ever you entered into your argument list"
   ]
  },
  {
   "cell_type": "code",
   "execution_count": null,
   "metadata": {},
   "outputs": [],
   "source": []
  },
  {
   "cell_type": "code",
   "execution_count": null,
   "metadata": {},
   "outputs": [],
   "source": []
  }
 ],
 "metadata": {
  "celltoolbar": "Slideshow",
  "kernelspec": {
   "display_name": "Python 2",
   "language": "python",
   "name": "python2"
  },
  "language_info": {
   "codemirror_mode": {
    "name": "ipython",
    "version": 2
   },
   "file_extension": ".py",
   "mimetype": "text/x-python",
   "name": "python",
   "nbconvert_exporter": "python",
   "pygments_lexer": "ipython2",
   "version": "2.7.14"
  }
 },
 "nbformat": 4,
 "nbformat_minor": 2
}
