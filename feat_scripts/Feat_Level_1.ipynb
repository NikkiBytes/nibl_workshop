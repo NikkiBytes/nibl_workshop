{
 "cells": [
  {
   "cell_type": "markdown",
   "metadata": {
    "slideshow": {
     "slide_type": "slide"
    }
   },
   "source": [
    "# Level 1 FEAT setup!"
   ]
  },
  {
   "cell_type": "markdown",
   "metadata": {
    "slideshow": {
     "slide_type": "slide"
    }
   },
   "source": [
    "## Open up a fresh blank script in your Spyder IDE and save it as make_level1.py\n",
    "For this tutorial you will input all code into this script and periodically commit your changes and push them to github when you see the logo \n",
    "![](https://imageog.flaticon.com/icons/png/512/3/3641.png?size=1200x630f&pad=10,10,10,10&ext=png&bg=FFFFFFFF)"
   ]
  },
  {
   "cell_type": "markdown",
   "metadata": {
    "slideshow": {
     "slide_type": "slide"
    }
   },
   "source": [
    "## As always we are going to start by importing our modules"
   ]
  },
  {
   "cell_type": "code",
   "execution_count": null,
   "metadata": {
    "collapsed": true
   },
   "outputs": [],
   "source": [
    "import glob\n",
    "import os\n",
    "from subprocess import check_output\n",
    "#import pdb\n",
    "import argparse\n",
    "from IPython.display import Image\n",
    "from IPython.core.display import HTML "
   ]
  },
  {
   "cell_type": "markdown",
   "metadata": {
    "slideshow": {
     "slide_type": "slide"
    }
   },
   "source": [
    "## Lets start by building our two functions. This time we will call the first create_fsf( ) and as always main( )"
   ]
  },
  {
   "cell_type": "markdown",
   "metadata": {
    "slideshow": {
     "slide_type": "fragment"
    }
   },
   "source": [
    "```\n",
    "def create_fsf():\n",
    "```"
   ]
  },
  {
   "cell_type": "markdown",
   "metadata": {
    "slideshow": {
     "slide_type": "fragment"
    }
   },
   "source": [
    "```\n",
    "def main ():\n",
    "```"
   ]
  },
  {
   "cell_type": "markdown",
   "metadata": {
    "slideshow": {
     "slide_type": "fragment"
    }
   },
   "source": [
    "```\n",
    "main()\n",
    "```"
   ]
  },
  {
   "cell_type": "markdown",
   "metadata": {
    "slideshow": {
     "slide_type": "slide"
    }
   },
   "source": [
    "![](https://imageog.flaticon.com/icons/png/512/3/3641.png?size=1200x630f&pad=10,10,10,10&ext=png&bg=FFFFFFFF)"
   ]
  },
  {
   "cell_type": "markdown",
   "metadata": {
    "slideshow": {
     "slide_type": "slide"
    }
   },
   "source": [
    "## Strategy: \n",
    "\n",
    "We are going to use the .fsf file to automate our feat analysis. To do this we are going to need to do the following:\n",
    "1. Decide on our analysis plan (what variables are we using? This should be done before we even try to automate)\n",
    "2. Get a .fsf and find all the variables we are going to automate and which will be hard coded\n",
    "3. Use a dictonary in python to fill in our fsf file\n",
    "4. Make a script to run our new fsf files in parallel"
   ]
  },
  {
   "cell_type": "markdown",
   "metadata": {
    "slideshow": {
     "slide_type": "slide"
    }
   },
   "source": [
    "## 1. Decide on our analysis plan (what variables are we using? This should be done before we even try to automate)\n",
    "\n",
    "Normally this would be set out before you even gathered your data, or if you are doing secondary data analysis, before you dive into the data. You could even do a spiffy pre-reg https://osf.io/\n",
    "\n",
    "Since this is a workshop we are going to pretend we did all that leg work. We are going to use the bart task and look at the difference between CASH trials and the ACCEPT trials and EXPLODE trials. Does this analysis make sense in real life? I don't know, but that doesn't really matter here.\n",
    "\n"
   ]
  },
  {
   "cell_type": "markdown",
   "metadata": {
    "slideshow": {
     "slide_type": "slide"
    }
   },
   "source": [
    "## 2. Get a .fsf and find all the variables we are going to automate and which will be hard coded\n",
    "\n",
    "The easiest way to do this is to fire up the Feat gui and to start a list of variables we are going to hard code and those we are going to fill in through python."
   ]
  },
  {
   "cell_type": "markdown",
   "metadata": {
    "slideshow": {
     "slide_type": "slide"
    }
   },
   "source": [
    "![alt text](https://github.com/grace-shearrer/nibl_workshop/blob/master/feat_data.png?raw=true \"Logo Title Text 1\")"
   ]
  },
  {
   "cell_type": "markdown",
   "metadata": {
    "slideshow": {
     "slide_type": "fragment"
    }
   },
   "source": [
    "We can do a lot of heavy lifting here. \n",
    "Notice my output directory is now just OUTPUT\n",
    "I have variables for the total volumes and the TRs\n",
    "I try to populate as many fields as possible with info from the image "
   ]
  },
  {
   "cell_type": "markdown",
   "metadata": {
    "slideshow": {
     "slide_type": "fragment"
    }
   },
   "source": [
    "![](https://github.com/grace-shearrer/nibl_workshop/blob/master/feat_input.png?raw=true)"
   ]
  },
  {
   "cell_type": "markdown",
   "metadata": {
    "slideshow": {
     "slide_type": "slide"
    }
   },
   "source": [
    "![](https://github.com/grace-shearrer/nibl_workshop/blob/master/feat_prestats.png?raw=true)"
   ]
  },
  {
   "cell_type": "markdown",
   "metadata": {
    "slideshow": {
     "slide_type": "fragment"
    }
   },
   "source": [
    "Alternatively, the pre-stats can almost be completely filled into the GUI once\n",
    "Why would we ever change this between runs/subjects? I can't think of a reason"
   ]
  },
  {
   "cell_type": "markdown",
   "metadata": {
    "slideshow": {
     "slide_type": "slide"
    }
   },
   "source": [
    "## Now to the registration tab, this is big choice point! Are we planning on using data registered elsewhere?"
   ]
  },
  {
   "cell_type": "markdown",
   "metadata": {
    "slideshow": {
     "slide_type": "slide"
    }
   },
   "source": [
    "## Nope gonna register it right here"
   ]
  },
  {
   "cell_type": "markdown",
   "metadata": {
    "slideshow": {
     "slide_type": "fragment"
    }
   },
   "source": [
    "![](https://github.com/grace-shearrer/nibl_workshop/blob/master/feat_reg.png?raw=true)"
   ]
  },
  {
   "cell_type": "markdown",
   "metadata": {
    "slideshow": {
     "slide_type": "fragment"
    }
   },
   "source": [
    "Since we are loading in our anatomical image we are going to create a variable for it. Make sure you have the correct path to your standard space!"
   ]
  },
  {
   "cell_type": "markdown",
   "metadata": {
    "slideshow": {
     "slide_type": "slide"
    }
   },
   "source": [
    "## I'll hand my own registration elsewhere thank you"
   ]
  },
  {
   "cell_type": "markdown",
   "metadata": {
    "slideshow": {
     "slide_type": "fragment"
    }
   },
   "source": [
    "![](https://github.com/grace-shearrer/nibl_workshop/blob/master/feat_noreg.png?raw=true)"
   ]
  },
  {
   "cell_type": "markdown",
   "metadata": {
    "slideshow": {
     "slide_type": "fragment"
    }
   },
   "source": [
    "We probably spent a long time (or computing power) on our custom registration, so let's save time here and use only 6 DOF ;)"
   ]
  },
  {
   "cell_type": "markdown",
   "metadata": {
    "slideshow": {
     "slide_type": "slide"
    }
   },
   "source": [
    "## The heavy lifting: The Stats Tab!"
   ]
  },
  {
   "cell_type": "markdown",
   "metadata": {
    "slideshow": {
     "slide_type": "fragment"
    }
   },
   "source": [
    "![](https://github.com/grace-shearrer/nibl_workshop/blob/master/feat_stats.png?raw=true)"
   ]
  },
  {
   "cell_type": "markdown",
   "metadata": {
    "slideshow": {
     "slide_type": "fragment"
    }
   },
   "source": [
    "Notice we have both the FILM prewhiting tab and the Add additional confounds checked."
   ]
  },
  {
   "cell_type": "markdown",
   "metadata": {
    "slideshow": {
     "slide_type": "fragment"
    }
   },
   "source": [
    "![](https://github.com/grace-shearrer/nibl_workshop/blob/master/feat_conf.png?raw=true)"
   ]
  },
  {
   "cell_type": "markdown",
   "metadata": {
    "slideshow": {
     "slide_type": "slide"
    }
   },
   "source": [
    "![](https://github.com/grace-shearrer/nibl_workshop/blob/master/feat_modelev.png?raw=true)"
   ]
  },
  {
   "cell_type": "markdown",
   "metadata": {
    "slideshow": {
     "slide_type": "fragment"
    }
   },
   "source": [
    "Here we can set a variable for each EVTITLE and the EV itself\n",
    "We just need to make sure they match \n",
    "We can also do this for the motion correction parameters (if we chose not to do it through FEAT)"
   ]
  },
  {
   "cell_type": "markdown",
   "metadata": {
    "slideshow": {
     "slide_type": "slide"
    }
   },
   "source": [
    "![](https://github.com/grace-shearrer/nibl_workshop/blob/master/feat_moco.png?raw=true)"
   ]
  },
  {
   "cell_type": "markdown",
   "metadata": {
    "slideshow": {
     "slide_type": "fragment"
    }
   },
   "source": [
    "Notice for the motion correction I have set the shape to a single column and the convolution to none.\n",
    "#### Concept Check: Why did set the convolution to none?"
   ]
  },
  {
   "cell_type": "markdown",
   "metadata": {
    "slideshow": {
     "slide_type": "slide"
    }
   },
   "source": [
    "![](https://github.com/grace-shearrer/nibl_workshop/blob/master/feat_modelcon.png?raw=true)"
   ]
  },
  {
   "cell_type": "markdown",
   "metadata": {
    "slideshow": {
     "slide_type": "fragment"
    }
   },
   "source": [
    "Here are the fake contrasts we will look at\n",
    "I like to take a screenshot of this as a reference since after this fsl will refer to these by number only\n",
    "#### Future Knowledge: What does fsl call the higher level directories based on our contrasts?"
   ]
  },
  {
   "cell_type": "markdown",
   "metadata": {
    "slideshow": {
     "slide_type": "slide"
    }
   },
   "source": [
    "## Last but not least (ok kinda least): POST STATS"
   ]
  },
  {
   "cell_type": "markdown",
   "metadata": {
    "slideshow": {
     "slide_type": "fragment"
    }
   },
   "source": [
    "![](https://github.com/grace-shearrer/nibl_workshop/blob/master/feat_poststats.png?raw=true)"
   ]
  },
  {
   "cell_type": "markdown",
   "metadata": {
    "slideshow": {
     "slide_type": "fragment"
    }
   },
   "source": [
    "My personal favorite, turn everything off we will come back to this when we do our group level model"
   ]
  },
  {
   "cell_type": "markdown",
   "metadata": {
    "slideshow": {
     "slide_type": "slide"
    }
   },
   "source": [
    "## Great we are done with our one GUI, and if you tend to do similar analyeses maybe the last ever! Click save and save the file as:\n",
    "## Level1_design.fsf\n",
    "The GUI will get mad at you and tell you you are missing a lot of stuff. Just click through.\n",
    "Make sure the .fsf file was generated. We can delete all the other files."
   ]
  },
  {
   "cell_type": "markdown",
   "metadata": {
    "slideshow": {
     "slide_type": "slide"
    }
   },
   "source": [
    "### Let's remind ourselves what we variables we will need to generate\n",
    "1. FUNCRUN = this will be our input image\n",
    "2. NTIMEPOINTS = this is the number of timepoints per image\n",
    "3. TRS = this is the TRs in the nifti\n",
    "4. OUTPUT = what we want to call our output directory, it will be something .feat\n",
    "5. ANAT = this is our T1W image, if we are using FNIRT it needs have skull, if we are using FLIRT we want the defaced (betted)\n",
    "6. CONFOUNDS = this is the confound.txt file generated from fsl_motion_outliers that we should have in our motion assessment directory if our prepro script worked\n",
    "7. EV = this is the path to the explanatory variable text file we want to use (we will have more than 1), each needs to be in the 3 column format\n",
    "8. EVTITLE = this is a useful name for each EV\n",
    "9. MOTCOR = this is the path to the motion parameters we generated in with the preprocessing script"
   ]
  },
  {
   "cell_type": "markdown",
   "metadata": {
    "slideshow": {
     "slide_type": "fragment"
    }
   },
   "source": [
    "### Let's also remember a major choice point\n",
    "Are we using feat to register or no?"
   ]
  },
  {
   "cell_type": "markdown",
   "metadata": {
    "slideshow": {
     "slide_type": "slide"
    }
   },
   "source": [
    "## At this time let's open that .fsf file we just created with our text editor and take a look at our handy work!"
   ]
  },
  {
   "cell_type": "markdown",
   "metadata": {
    "slideshow": {
     "slide_type": "slide"
    }
   },
   "source": [
    "![](https://imageog.flaticon.com/icons/png/512/3/3641.png?size=1200x630f&pad=10,10,10,10&ext=png&bg=FFFFFFFF)"
   ]
  },
  {
   "cell_type": "markdown",
   "metadata": {
    "slideshow": {
     "slide_type": "slide"
    }
   },
   "source": [
    "## Okay now for the actual python part! \n",
    "right now our script looks a little bare"
   ]
  },
  {
   "cell_type": "markdown",
   "metadata": {
    "slideshow": {
     "slide_type": "fragment"
    }
   },
   "source": [
    "```\n",
    "def create_fsf():\n",
    "    \n",
    "def main():\n",
    "    \n",
    "main()\n",
    "```"
   ]
  },
  {
   "cell_type": "markdown",
   "metadata": {
    "slideshow": {
     "slide_type": "slide"
    }
   },
   "source": [
    "## Let's set up some globals\n",
    "### What are we sure we are going to need?\n",
    "1. basedir = this is going to be like second nature, where is our data?\n",
    "2. outdir = where is our output data located, if we are using a bids like structure probably some where with derivative in the directory tree\n",
    "3. Do we want to pass arguments via argparse? YES \n",
    "   * We have multiple tasks so we will want something argument to differentiate task\n",
    "   * We have a lot of potential EVs so we will want something that will take multiple arguments\n",
    "   * We have a serious choice point of to reg or not to reg (shakespeare's got nothing on us)\n",
    "### Give it a try and write your main( ) function"
   ]
  },
  {
   "cell_type": "code",
   "execution_count": null,
   "metadata": {
    "collapsed": true,
    "slideshow": {
     "slide_type": "slide"
    }
   },
   "outputs": [],
   "source": [
    "def main ():\n",
    "  basedir='/Users/gracer/Desktop/data'\n",
    "  outdir=os.path.join(basedir,'derivatives','task')\n",
    "  parser=argparse.ArgumentParser(description='making fsf files')\n",
    "  parser.add_argument('-noreg',dest='NOREG', action='store_true',\n",
    "                        default=False, help='Did you already register your data (using ANTZ maybe)?')\n",
    "  parser.add_argument('-task',dest='TASK',\n",
    "                        default=False, help='which task are we using?')\n",
    "  parser.add_argument('-evs',dest='EV',nargs='+',\n",
    "                        default=False, help='which evs are we using?')\n",
    "\n",
    "  repl_dict={}\n",
    "  args = parser.parse_args()\n",
    "  arglist={}\n",
    "  for a in args._get_kwargs():\n",
    "      arglist[a[0]]=a[1]\n",
    "      print(arglist)\n",
    "  create_fsf(basedir,repl_dict, outdir, arglist)"
   ]
  },
  {
   "cell_type": "markdown",
   "metadata": {
    "slideshow": {
     "slide_type": "fragment"
    }
   },
   "source": [
    "## This is what I came up with does anyone have anything different? There are a lot of ways we could accomplish this"
   ]
  },
  {
   "cell_type": "markdown",
   "metadata": {
    "slideshow": {
     "slide_type": "slide"
    }
   },
   "source": [
    "![](https://imageog.flaticon.com/icons/png/512/3/3641.png?size=1200x630f&pad=10,10,10,10&ext=png&bg=FFFFFFFF)"
   ]
  },
  {
   "cell_type": "markdown",
   "metadata": {
    "slideshow": {
     "slide_type": "slide"
    }
   },
   "source": [
    "## On to the meaty bits! The create_fsf( ) function!"
   ]
  },
  {
   "cell_type": "markdown",
   "metadata": {
    "slideshow": {
     "slide_type": "fragment"
    }
   },
   "source": [
    "## We need to get all the subjects.\n",
    "### Concept Check: What can we use to get all the subjects?"
   ]
  },
  {
   "cell_type": "markdown",
   "metadata": {
    "slideshow": {
     "slide_type": "slide"
    }
   },
   "source": [
    "![](https://i.imgur.com/itVtNcK.gif)"
   ]
  },
  {
   "cell_type": "code",
   "execution_count": null,
   "metadata": {
    "slideshow": {
     "slide_type": "fragment"
    }
   },
   "outputs": [],
   "source": [
    "basedir='/Users/gracer/Desktop/data'\n",
    "listy=glob.glob(os.path.join(basedir,'sub-*','func','*.nii.gz'))\n",
    "print(listy[1].split('/'))\n",
    "repl_dict={}"
   ]
  },
  {
   "cell_type": "markdown",
   "metadata": {
    "slideshow": {
     "slide_type": "slide"
    }
   },
   "source": [
    "## 1. funcrun"
   ]
  },
  {
   "cell_type": "code",
   "execution_count": null,
   "metadata": {
    "collapsed": true,
    "slideshow": {
     "slide_type": "fragment"
    }
   },
   "outputs": [],
   "source": [
    "def create_fsf():\n",
    "    for item in glob.glob(os.path.join(basedir,'sub-*')):\n",
    "        sub=item.split('/')[5]\n",
    "        funcrun=(os.path.join(item,'func','%s_task-%s_bold_brain_mcf.nii.gz')%(sub,arglist['TASK']))\n",
    "        repl_dict.update({'FUNCRUN':funcrun})"
   ]
  },
  {
   "cell_type": "markdown",
   "metadata": {
    "slideshow": {
     "slide_type": "slide"
    }
   },
   "source": [
    "## 2. NTIMEPOINTS = this is the number of timepoints per image\n",
    "## 3. TRS = this is the TRs in the nifti"
   ]
  },
  {
   "cell_type": "code",
   "execution_count": null,
   "metadata": {
    "collapsed": true,
    "slideshow": {
     "slide_type": "fragment"
    }
   },
   "outputs": [],
   "source": [
    "def create_fsf():\n",
    "    for item in glob.glob(os.path.join(basedir,'sub-*')):\n",
    "        sub=item.split('/')[5]\n",
    "        funcrun=(os.path.join(item,'func','%s_task-%s_bold_brain_mcf.nii.gz')%(sub,arglist['TASK']))\n",
    "        repl_dict.update({'FUNCRUN':funcrun})\n",
    "        \n",
    "        ntmpts=check_output(['fslnvols',funcrun])\n",
    "        repl_dict.update({'NTIMEPOINTS':ntmpts})\n",
    "\n",
    "        trs=check_output(['fslval','%s'%(funcrun),'pixdim4',scan])\n",
    "        print(trs)\n",
    "        repl_dict.update({'TRS':trs})"
   ]
  },
  {
   "cell_type": "markdown",
   "metadata": {
    "slideshow": {
     "slide_type": "slide"
    }
   },
   "source": [
    "## 4. OUTPUT = what we want to call our output directory, it will be something .feat\n",
    "## 5. ANAT = this is our T1W image, if we are using FNIRT it needs have skull, if we are using FLIRT we want the defaced (betted)"
   ]
  },
  {
   "cell_type": "code",
   "execution_count": null,
   "metadata": {
    "slideshow": {
     "slide_type": "fragment"
    }
   },
   "outputs": [],
   "source": [
    "        output=os.path.join(outdir,sub,'grace_edit',arglist['TASK'])\n",
    "        repl_dict.update({'OUTPUT':output})            \n",
    "        anat=os.path.join(basedir,sub,'anat','%s_T1w_brain.nii.gz'%(sub))\n",
    "        repl_dict.update({'ANAT':anat})"
   ]
  },
  {
   "cell_type": "markdown",
   "metadata": {
    "slideshow": {
     "slide_type": "slide"
    }
   },
   "source": [
    "## 6. CONFOUNDS = this is the confound.txt file generated from fsl_motion_outliers that we should have in our motion assessment directory if our prepro script worked"
   ]
  },
  {
   "cell_type": "code",
   "execution_count": null,
   "metadata": {
    "collapsed": true,
    "slideshow": {
     "slide_type": "fragment"
    }
   },
   "outputs": [],
   "source": [
    "        confounds=os.path.join(basedir,sub,'func','motion_assessment','%s_task-%s_bold_brain_confound.txt'%(sub,arglist['TASK']))\n",
    "        repl_dict.update({'CONFOUNDS':confounds})"
   ]
  },
  {
   "cell_type": "markdown",
   "metadata": {
    "slideshow": {
     "slide_type": "slide"
    }
   },
   "source": [
    "![](https://imageog.flaticon.com/icons/png/512/3/3641.png?size=1200x630f&pad=10,10,10,10&ext=png&bg=FFFFFFFF)"
   ]
  },
  {
   "cell_type": "markdown",
   "metadata": {
    "slideshow": {
     "slide_type": "slide"
    }
   },
   "source": [
    "## 7. EV = this is the path to the explanatory variable text file we want to use (we will have more than 1), each needs to be in the 3 column format\n",
    "## 8. EVTITLE = this is a useful name for each EV"
   ]
  },
  {
   "cell_type": "markdown",
   "metadata": {
    "slideshow": {
     "slide_type": "fragment"
    }
   },
   "source": [
    "This is going to be a tough one. We have a certain number of EVs we have defined using our argparse. How are we going to match it up with the EVs and EV titles? \n",
    "Let's take a look at what the EV files look like.\n",
    "\n",
    "#### sub-10171_bart_action_EXPLODE_output.txt\n",
    "\n",
    "What parts of this do we need to be able to swap out?\n",
    "1. subject\n",
    "2. task\n",
    "3. action type (EXPLODE, CASHOUT, ACCEPT)\n",
    "\n",
    "### Concept Check: Where have we already defined these? Or do we need to define them now?"
   ]
  },
  {
   "cell_type": "markdown",
   "metadata": {
    "slideshow": {
     "slide_type": "fragment"
    }
   },
   "source": [
    "1. subject = we have defined this as sub\n",
    "2. task = we have this in our arglist dictionary \n",
    "3. action type (EXPLODE, CASHOUT, ACCEPT) = we have this in our arglist dictionary "
   ]
  },
  {
   "cell_type": "markdown",
   "metadata": {
    "slideshow": {
     "slide_type": "slide"
    }
   },
   "source": [
    "We can use a counter to loop through our EVs. \n",
    "This gives us the numbers we will need in the EV title."
   ]
  },
  {
   "cell_type": "code",
   "execution_count": null,
   "metadata": {
    "collapsed": true,
    "slideshow": {
     "slide_type": "fragment"
    }
   },
   "outputs": [],
   "source": [
    "        ctr=0\n",
    "        for item in arglist['EV']:\n",
    "            print(item)\n",
    "            ctr=ctr+1\n",
    "            repl_dict.update({'EV%iTITLE'%ctr:item})\n",
    "            ev=os.path.join(basedir,sub,'func','onsets','%s_%s_%s_output.txt'%(sub,arglist['TASK'],item))\n",
    "            repl_dict.update({'EV%i'%ctr:ev}) "
   ]
  },
  {
   "cell_type": "markdown",
   "metadata": {
    "slideshow": {
     "slide_type": "slide"
    }
   },
   "source": [
    "## 9. MOTCOR = this is the path to the motion parameters we generated in with the preprocessing script"
   ]
  },
  {
   "cell_type": "markdown",
   "metadata": {
    "slideshow": {
     "slide_type": "fragment"
    }
   },
   "source": [
    "Similar to the EVs we will need to use a counter for the motion parameters. \n",
    "Unlike the EVs though, we will always only have 6 motion parameters.\n",
    "We can use the range function as a counter!"
   ]
  },
  {
   "cell_type": "code",
   "execution_count": null,
   "metadata": {
    "collapsed": true,
    "slideshow": {
     "slide_type": "fragment"
    }
   },
   "outputs": [],
   "source": [
    "    for i in range(6):\n",
    "        motcor=os.path.join(basedir,sub,'func','motion_assessment','%s_task-%s_bold_brain_motcor%i.txt' %(sub,arglist['TASK'],i))\n",
    "        repl_dict.update({'MOTCOR%i'%i:motcor})"
   ]
  },
  {
   "cell_type": "markdown",
   "metadata": {
    "slideshow": {
     "slide_type": "slide"
    }
   },
   "source": [
    "![](https://imageog.flaticon.com/icons/png/512/3/3641.png?size=1200x630f&pad=10,10,10,10&ext=png&bg=FFFFFFFF)"
   ]
  },
  {
   "cell_type": "markdown",
   "metadata": {
    "slideshow": {
     "slide_type": "slide"
    }
   },
   "source": [
    "## Let's add a print statement incase we need to debug"
   ]
  },
  {
   "cell_type": "code",
   "execution_count": 8,
   "metadata": {
    "slideshow": {
     "slide_type": "fragment"
    }
   },
   "outputs": [
    {
     "ename": "NameError",
     "evalue": "name 'repl_dict' is not defined",
     "output_type": "error",
     "traceback": [
      "\u001b[0;31m---------------------------------------------------------------------------\u001b[0m",
      "\u001b[0;31mNameError\u001b[0m                                 Traceback (most recent call last)",
      "\u001b[0;32m<ipython-input-8-51864ebf21a5>\u001b[0m in \u001b[0;36m<module>\u001b[0;34m()\u001b[0m\n\u001b[0;32m----> 1\u001b[0;31m \u001b[0;32mprint\u001b[0m\u001b[0;34m(\u001b[0m\u001b[0mrepl_dict\u001b[0m\u001b[0;34m)\u001b[0m\u001b[0;34m\u001b[0m\u001b[0m\n\u001b[0m",
      "\u001b[0;31mNameError\u001b[0m: name 'repl_dict' is not defined"
     ]
    }
   ],
   "source": [
    "print(repl_dict)"
   ]
  },
  {
   "cell_type": "markdown",
   "metadata": {
    "slideshow": {
     "slide_type": "slide"
    }
   },
   "source": [
    "## We should now have something that looks like this"
   ]
  },
  {
   "cell_type": "code",
   "execution_count": null,
   "metadata": {
    "collapsed": true,
    "slideshow": {
     "slide_type": "fragment"
    }
   },
   "outputs": [],
   "source": [
    "def create_fsf(basedir,repl_dict,outdir, arglist):\n",
    "    os.chdir(basedir)\n",
    "    for sub in glob.glob('sub-*'):\n",
    "        repl_dict.update({'SUB':sub})\n",
    "\n",
    "        scan=(os.path.join(sub,'func','%s_task-%s_bold_brain_mcf.nii.gz')%(sub,arglist['TASK']))\n",
    "\n",
    "        funcrun=os.path.join(basedir,scan)\n",
    "        repl_dict.update({'FUNCRUN':funcrun})\n",
    "\n",
    "        ntmpts=check_output(['fslnvols',funcrun])\n",
    "        repl_dict.update({'NTIMEPOINTS':ntmpts})\n",
    "\n",
    "        trs=check_output(['fslval','%s'%(funcrun),'pixdim4',scan])\n",
    "        print(trs)\n",
    "        repl_dict.update({'TRS':trs})\n",
    "\n",
    "\n",
    "        output=os.path.join(outdir,sub,'grace_edit',arglist['TASK'])\n",
    "        repl_dict.update({'OUTPUT':output})            \n",
    "        anat=os.path.join(basedir,sub,'anat','%s_T1w_brain.nii.gz'%(sub))\n",
    "        repl_dict.update({'ANAT':anat})\n",
    "\n",
    "        confounds=os.path.join(basedir,sub,'func','motion_assessment','%s_task-%s_bold_brain_confound.txt'%(sub,arglist['TASK']))\n",
    "        repl_dict.update({'CONFOUNDS':confounds})\n",
    "        ctr=0\n",
    "        for item in arglist['EV']:\n",
    "            print(item)\n",
    "            ctr=ctr+1\n",
    "            repl_dict.update({'EV%iTITLE'%ctr:item})\n",
    "            ev=os.path.join(basedir,sub,'func','onsets','%s_%s_%s_output.txt'%(sub,arglist['TASK'],item))\n",
    "            repl_dict.update({'EV%i'%ctr:ev}) \n",
    "        for i in range(6):\n",
    "            motcor=os.path.join(basedir,sub,'func','motion_assessment','%s_task-%s_bold_brain_motcor%i.txt' %(sub,arglist['TASK'],i))\n",
    "            repl_dict.update({'MOTCOR%i'%i:motcor})\n",
    "\n",
    "        print(repl_dict)"
   ]
  },
  {
   "cell_type": "markdown",
   "metadata": {
    "slideshow": {
     "slide_type": "slide"
    }
   },
   "source": [
    "## We have all our variables now we need to swap out the place holder variables in our .fsf files"
   ]
  },
  {
   "cell_type": "markdown",
   "metadata": {
    "slideshow": {
     "slide_type": "fragment"
    }
   },
   "source": [
    "### First we need to open a file to read\n",
    "```\n",
    "with open(os.path.join(basedir,'design.fsf'),'r') as infile:\n",
    "```\n",
    "### Second we need to read the file.\n",
    "You may recall we previously have used the function readlines(), this time we don't want to read in the file as a list.\n",
    "We want to read in the file as a string.\n",
    "```\n",
    "tempfsf=infile.read()\n",
    "```\n",
    "### Third we need to loop through our dictionary using the key\n",
    "```\n",
    "for key in repl_dict:\n",
    "    tempfsf = tempfsf.replace(key, repl_dict[key])\n",
    "```\n",
    "We can use the replace function to replace the variables in the fsf file with the values in the dictionary."
   ]
  },
  {
   "cell_type": "markdown",
   "metadata": {
    "slideshow": {
     "slide_type": "fragment"
    }
   },
   "source": [
    "### Concept Check: the replace function requires a string argument. If we decided to use the readlines function instead of the read function, would replace still work?"
   ]
  },
  {
   "cell_type": "markdown",
   "metadata": {
    "slideshow": {
     "slide_type": "slide"
    }
   },
   "source": [
    "### Now that we have replaced the variables in the fsf with the key values we can write the strings to a new file \n",
    "```\n",
    "with open(os.path.join(outdir,sub,'%s_%s.fsf'%(sub,arglist['TASK'])),'w') as outfile:\n",
    "    outfile.write(tempfsf)\n",
    "outfile.close()\n",
    "```"
   ]
  },
  {
   "cell_type": "markdown",
   "metadata": {
    "slideshow": {
     "slide_type": "slide"
    }
   },
   "source": [
    "### All together we should have this"
   ]
  },
  {
   "cell_type": "code",
   "execution_count": null,
   "metadata": {
    "collapsed": true,
    "slideshow": {
     "slide_type": "fragment"
    }
   },
   "outputs": [],
   "source": [
    "def create_fsf(basedir,repl_dict,outdir, arglist):\n",
    "    os.chdir(basedir)\n",
    "    for sub in glob.glob('sub-*'):\n",
    "        repl_dict.update({'SUB':sub})\n",
    "\n",
    "        scan=(os.path.join(sub,'func','%s_task-%s_bold_brain_mcf.nii.gz')%(sub,arglist['TASK']))\n",
    "\n",
    "        funcrun=os.path.join(basedir,scan)\n",
    "        repl_dict.update({'FUNCRUN':funcrun})\n",
    "\n",
    "        ntmpts=check_output(['fslnvols',funcrun])\n",
    "        repl_dict.update({'NTIMEPOINTS':ntmpts})\n",
    "\n",
    "        trs=check_output(['fslval','%s'%(funcrun),'pixdim4',scan])\n",
    "        print(trs)\n",
    "        repl_dict.update({'TRS':trs})\n",
    "\n",
    "\n",
    "        output=os.path.join(outdir,sub,'grace_edit',arglist['TASK'])\n",
    "        repl_dict.update({'OUTPUT':output})            \n",
    "        anat=os.path.join(basedir,sub,'anat','%s_T1w_brain.nii.gz'%(sub))\n",
    "        repl_dict.update({'ANAT':anat})\n",
    "\n",
    "        confounds=os.path.join(basedir,sub,'func','motion_assessment','%s_task-%s_bold_brain_confound.txt'%(sub,arglist['TASK']))\n",
    "        repl_dict.update({'CONFOUNDS':confounds})\n",
    "        ctr=0\n",
    "        for item in arglist['EV']:\n",
    "            print(item)\n",
    "            ctr=ctr+1\n",
    "            repl_dict.update({'EV%iTITLE'%ctr:item})\n",
    "            ev=os.path.join(basedir,sub,'func','onsets','%s_%s_%s_output.txt'%(sub,arglist['TASK'],item))\n",
    "            repl_dict.update({'EV%i'%ctr:ev}) \n",
    "        for i in range(6):\n",
    "            motcor=os.path.join(basedir,sub,'func','motion_assessment','%s_task-%s_bold_brain_motcor%i.txt' %(sub,arglist['TASK'],i))\n",
    "            repl_dict.update({'MOTCOR%i'%i:motcor})\n",
    "\n",
    "        print(repl_dict)\n",
    "        if arglist['NOREG']==False:\n",
    "            with open(os.path.join(basedir,'design.fsf'),'r') as infile:\n",
    "                tempfsf=infile.read()\n",
    "                for key in repl_dict:\n",
    "                    tempfsf = tempfsf.replace(key, repl_dict[key])\n",
    "                    with open(os.path.join(outdir,sub,'%s_%s.fsf'%(sub,arglist['TASK'])),'w') as outfile:\n",
    "                        outfile.write(tempfsf)\n",
    "                    outfile.close()\n",
    "            infile.close()"
   ]
  },
  {
   "cell_type": "markdown",
   "metadata": {
    "slideshow": {
     "slide_type": "slide"
    }
   },
   "source": [
    "![](https://imageog.flaticon.com/icons/png/512/3/3641.png?size=1200x630f&pad=10,10,10,10&ext=png&bg=FFFFFFFF)"
   ]
  },
  {
   "cell_type": "markdown",
   "metadata": {
    "slideshow": {
     "slide_type": "slide"
    }
   },
   "source": [
    "## But wait... what about the registration issue???\n",
    "### To address this we can use an if/else statement with our arglist\n",
    "### Give it a try first"
   ]
  },
  {
   "cell_type": "code",
   "execution_count": null,
   "metadata": {
    "collapsed": true,
    "slideshow": {
     "slide_type": "fragment"
    }
   },
   "outputs": [],
   "source": [
    "if arglist['NOREG']==False:\n",
    "            with open(os.path.join(basedir,'design.fsf'),'r') as infile:\n",
    "                tempfsf=infile.read()\n",
    "                for key in repl_dict:\n",
    "                    tempfsf = tempfsf.replace(key, repl_dict[key])\n",
    "                    with open(os.path.join(outdir,sub,'%s_%s.fsf'%(sub,arglist['TASK'])),'w') as outfile:\n",
    "                        outfile.write(tempfsf)\n",
    "                    outfile.close()\n",
    "                infile.close()\n",
    "\n",
    "        else:\n",
    "            print(\"skipping registration\")\n",
    "            with open(os.path.join(basedir,'no_reg_design.fsf'),'r') as infile:\n",
    "                tempfsf=infile.read()\n",
    "                for key in repl_dict:\n",
    "                    tempfsf = tempfsf.replace(key, repl_dict[key])\n",
    "                    with open(os.path.join(outdir,sub,'%s_%s_no_reg.fsf'%(sub,arglist['TASK'])),'w') as outfile:\n",
    "                        outfile.write(tempfsf)\n",
    "                    outfile.close()\n",
    "                infile.close()"
   ]
  },
  {
   "cell_type": "markdown",
   "metadata": {
    "slideshow": {
     "slide_type": "slide"
    }
   },
   "source": [
    "## All together now!"
   ]
  },
  {
   "cell_type": "code",
   "execution_count": null,
   "metadata": {
    "collapsed": true,
    "slideshow": {
     "slide_type": "fragment"
    }
   },
   "outputs": [],
   "source": [
    "#!/usr/bin/env python\n",
    "\n",
    "import glob\n",
    "import os\n",
    "from subprocess import check_output\n",
    "#import pdb\n",
    "import argparse\n",
    "\n",
    "\n",
    "def create_fsf(basedir,repl_dict,outdir, arglist):\n",
    "    os.chdir(basedir)\n",
    "    for sub in glob.glob('sub-*'):\n",
    "        repl_dict.update({'SUB':sub})\n",
    "\n",
    "        scan=(os.path.join(sub,'func','%s_task-%s_bold_brain_mcf.nii.gz')%(sub,arglist['TASK']))\n",
    "\n",
    "        funcrun=os.path.join(basedir,scan)\n",
    "        repl_dict.update({'FUNCRUN':funcrun})\n",
    "\n",
    "        ntmpts=check_output(['fslnvols',funcrun])\n",
    "        repl_dict.update({'NTIMEPOINTS':ntmpts})\n",
    "\n",
    "        trs=check_output(['fslval','%s'%(funcrun),'pixdim4',scan])\n",
    "        print(trs)\n",
    "        repl_dict.update({'TRS':trs})\n",
    "\n",
    "\n",
    "        output=os.path.join(outdir,sub,'grace_edit',arglist['TASK'])\n",
    "        repl_dict.update({'OUTPUT':output})            \n",
    "        anat=os.path.join(basedir,sub,'anat','%s_T1w_brain.nii.gz'%(sub))\n",
    "        repl_dict.update({'ANAT':anat})\n",
    "\n",
    "        confounds=os.path.join(basedir,sub,'func','motion_assessment','%s_task-%s_bold_brain_confound.txt'%(sub,arglist['TASK']))\n",
    "        repl_dict.update({'CONFOUNDS':confounds})\n",
    "        ctr=0\n",
    "        for item in arglist['EV']:\n",
    "            print(item)\n",
    "            ctr=ctr+1\n",
    "            repl_dict.update({'EV%iTITLE'%ctr:item})\n",
    "            ev=os.path.join(basedir,sub,'func','onsets','%s_%s_%s_output.txt'%(sub,arglist['TASK'],item))\n",
    "            repl_dict.update({'EV%i'%ctr:ev}) \n",
    "        for i in range(6):\n",
    "            motcor=os.path.join(basedir,sub,'func','motion_assessment','%s_task-%s_bold_brain_motcor%i.txt' %(sub,arglist['TASK'],i))\n",
    "            repl_dict.update({'MOTCOR%i'%i:motcor})\n",
    "\n",
    "        print(repl_dict)\n",
    "        if arglist['NOREG']==False:\n",
    "            with open(os.path.join(basedir,'design.fsf'),'r') as infile:\n",
    "                tempfsf=infile.read()\n",
    "                for key in repl_dict:\n",
    "                    tempfsf = tempfsf.replace(key, repl_dict[key])\n",
    "                    with open(os.path.join(outdir,sub,'%s_%s.fsf'%(sub,arglist['TASK'])),'w') as outfile:\n",
    "                        outfile.write(tempfsf)\n",
    "                    outfile.close()\n",
    "            infile.close()\n",
    "\n",
    "        else:\n",
    "            print(\"skipping registration\")\n",
    "            with open(os.path.join(basedir,'no_reg_design.fsf'),'r') as infile:\n",
    "                tempfsf=infile.read()\n",
    "                for key in repl_dict:\n",
    "                    tempfsf = tempfsf.replace(key, repl_dict[key])\n",
    "                    with open(os.path.join(outdir,sub,'%s_%s_no_reg.fsf'%(sub,arglist['TASK'])),'w') as outfile:\n",
    "                        outfile.write(tempfsf)\n",
    "                    outfile.close()\n",
    "            infile.close()\n",
    "    os.chdir('/Users/gracer/Google Drive/fMRI_workshop/scripts/feat_scripts')\n",
    "                       \n",
    "\n",
    "def main ():\n",
    "  basedir='/Users/gracer/Desktop/data'\n",
    "  outdir=os.path.join(basedir,'derivatives','task')\n",
    "  parser=argparse.ArgumentParser(description='making fsf files')\n",
    "  parser.add_argument('-noreg',dest='NOREG', action='store_true',\n",
    "                        default=False, help='Did you already register your data (using ANTZ maybe)?')\n",
    "  parser.add_argument('-task',dest='TASK',\n",
    "                        default=False, help='which task are we using?')\n",
    "  parser.add_argument('-evs',dest='EV',nargs='+',\n",
    "                        default=False, help='which evs are we using?')\n",
    "\n",
    "  repl_dict={}\n",
    "  args = parser.parse_args()\n",
    "  arglist={}\n",
    "  for a in args._get_kwargs():\n",
    "      arglist[a[0]]=a[1]\n",
    "      print(arglist)\n",
    "  create_fsf(basedir,repl_dict, outdir, arglist)\n",
    "main()\n",
    "os.chdir('/Users/gracer/Google Drive/fMRI_workshop/scripts/feat_scripts')"
   ]
  }
 ],
 "metadata": {
  "celltoolbar": "Slideshow",
  "kernelspec": {
   "display_name": "Python 2",
   "language": "python",
   "name": "python2"
  },
  "language_info": {
   "codemirror_mode": {
    "name": "ipython",
    "version": 2
   },
   "file_extension": ".py",
   "mimetype": "text/x-python",
   "name": "python",
   "nbconvert_exporter": "python",
   "pygments_lexer": "ipython2",
   "version": "2.7.14"
  }
 },
 "nbformat": 4,
 "nbformat_minor": 2
}
