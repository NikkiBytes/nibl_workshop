{
 "cells": [
  {
   "cell_type": "markdown",
   "metadata": {},
   "source": [
    "# Level 1 FEAT setup!"
   ]
  },
  {
   "cell_type": "markdown",
   "metadata": {},
   "source": [
    "## As always we are going to start by importing our modules"
   ]
  },
  {
   "cell_type": "code",
   "execution_count": 9,
   "metadata": {},
   "outputs": [],
   "source": [
    "import glob\n",
    "import os\n",
    "from subprocess import check_output\n",
    "#import pdb\n",
    "import argparse\n",
    "from IPython.display import Image\n",
    "from IPython.core.display import HTML "
   ]
  },
  {
   "cell_type": "markdown",
   "metadata": {},
   "source": [
    "## Lets start by building our two functions. This time we will call the first create_fsf( ) and as always main( )"
   ]
  },
  {
   "cell_type": "markdown",
   "metadata": {},
   "source": [
    "```\n",
    "def create_fsf():\n",
    "```"
   ]
  },
  {
   "cell_type": "markdown",
   "metadata": {},
   "source": [
    "```\n",
    "def main ():\n",
    "```"
   ]
  },
  {
   "cell_type": "markdown",
   "metadata": {},
   "source": [
    "```\n",
    "main()\n",
    "```"
   ]
  },
  {
   "cell_type": "markdown",
   "metadata": {},
   "source": [
    "## Strategy: \n",
    "\n",
    "We are going to use the .fsf file to automate our feat analysis. To do this we are going to need to do the following:\n",
    "1. Decide on our analysis plan (what variables are we using? This should be done before we even try to automate)\n",
    "2. Get a .fsf and find all the variables we are going to automate and which will be hard coded\n",
    "3. Use a dictonary in python to fill in our fsf file\n",
    "4. Make a script to run our new fsf files in parallel"
   ]
  },
  {
   "cell_type": "markdown",
   "metadata": {},
   "source": [
    "## 1. Decide on our analysis plan (what variables are we using? This should be done before we even try to automate)\n",
    "\n",
    "Normally this would be set out before you even gathered your data, or if you are doing secondary data analysis, before you dive into the data. You could even do a spiffy pre-reg https://osf.io/\n",
    "\n",
    "Since this is a workshop we are going to pretend we did all that leg work. We are going to use the bart task and look at the difference between CASH trials and the ACCEPT trials and EXPLODE trials. Does this analysis make sense in real life? I don't know, but that doesn't really matter here.\n",
    "\n"
   ]
  },
  {
   "cell_type": "markdown",
   "metadata": {},
   "source": [
    "## 2. Get a .fsf and find all the variables we are going to automate and which will be hard coded\n",
    "\n",
    "The easiest way to do this is to fire up the Feat gui and to start a list of variables we are going to hard code and those we are going to fill in through python."
   ]
  },
  {
   "cell_type": "markdown",
   "metadata": {},
   "source": [
    "![alt text](https://github.com/grace-shearrer/nibl_workshop/blob/master/feat_data.png?raw=true \"Logo Title Text 1\")"
   ]
  },
  {
   "cell_type": "markdown",
   "metadata": {},
   "source": [
    "We can do a lot of heavy lifting here. \n",
    "Notice my output directory is now just OUTPUT\n",
    "I have variables for the total volumes and the TRs\n",
    "I try to populate as many fields as possible with info from the image "
   ]
  },
  {
   "cell_type": "markdown",
   "metadata": {},
   "source": [
    "![](https://github.com/grace-shearrer/nibl_workshop/blob/master/feat_prestats.png?raw=true)"
   ]
  },
  {
   "cell_type": "markdown",
   "metadata": {},
   "source": [
    "Alternatively, the pre-stats can almost be completely filled into the GUI once\n",
    "Why would we ever change this between runs/subjects? I can't think of a reason"
   ]
  },
  {
   "cell_type": "markdown",
   "metadata": {},
   "source": [
    "## Now to the registration tab, this is big choice point! Are we planning on using data registered elsewhere?"
   ]
  },
  {
   "cell_type": "markdown",
   "metadata": {},
   "source": [
    "## Nope gonna register it right here"
   ]
  },
  {
   "cell_type": "markdown",
   "metadata": {},
   "source": [
    "![](https://github.com/grace-shearrer/nibl_workshop/blob/master/feat_reg.png?raw=true)"
   ]
  },
  {
   "cell_type": "markdown",
   "metadata": {},
   "source": [
    "Since we are loading in our anatomical image we are going to create a variable for it. Make sure you have the correct path to your standard space!"
   ]
  },
  {
   "cell_type": "markdown",
   "metadata": {},
   "source": [
    "## I'll hand my own registration elsewhere thank you"
   ]
  },
  {
   "cell_type": "markdown",
   "metadata": {},
   "source": [
    "![](https://github.com/grace-shearrer/nibl_workshop/blob/master/feat_noreg.png?raw=true)"
   ]
  },
  {
   "cell_type": "markdown",
   "metadata": {},
   "source": [
    "We probably spent a long time (or computing power) on our custom registration, so let's save time here and use only 6 DOF ;)"
   ]
  },
  {
   "cell_type": "markdown",
   "metadata": {},
   "source": [
    "## The heavy lifting: The Stats Tab!"
   ]
  },
  {
   "cell_type": "markdown",
   "metadata": {},
   "source": [
    "![](https://github.com/grace-shearrer/nibl_workshop/blob/master/feat_modelev.png?raw=true)"
   ]
  },
  {
   "cell_type": "markdown",
   "metadata": {},
   "source": [
    "Here we can set a variable for each EVTITLE and the EV itself\n",
    "We just need to make sure they match \n",
    "We can also do this for the motion correction parameters (if we chose not to do it through FEAT)"
   ]
  },
  {
   "cell_type": "markdown",
   "metadata": {},
   "source": [
    "![](https://github.com/grace-shearrer/nibl_workshop/blob/master/feat_moco.png?raw=true)"
   ]
  },
  {
   "cell_type": "markdown",
   "metadata": {},
   "source": [
    "Notice for the motion correction I have set the shape to a single column and the convolution to none.\n",
    "#### Concept Check: Why did set the convolution to none?"
   ]
  },
  {
   "cell_type": "code",
   "execution_count": null,
   "metadata": {},
   "outputs": [],
   "source": []
  }
 ],
 "metadata": {
  "kernelspec": {
   "display_name": "Python 2",
   "language": "python",
   "name": "python2"
  },
  "language_info": {
   "codemirror_mode": {
    "name": "ipython",
    "version": 2
   },
   "file_extension": ".py",
   "mimetype": "text/x-python",
   "name": "python",
   "nbconvert_exporter": "python",
   "pygments_lexer": "ipython2",
   "version": "2.7.14"
  }
 },
 "nbformat": 4,
 "nbformat_minor": 2
}
